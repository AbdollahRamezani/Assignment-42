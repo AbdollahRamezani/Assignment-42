{
 "cells": [
  {
   "cell_type": "code",
   "execution_count": 41,
   "metadata": {},
   "outputs": [],
   "source": [
    "import numpy as np\n",
    "import matplotlib.pyplot as plt\n",
    "from matplotlib.colors import ListedColormap\n",
    "from sklearn.neighbors import KNeighborsClassifier  #pip install scikit-learn\n",
    "from knn import KNN"
   ]
  },
  {
   "cell_type": "code",
   "execution_count": 42,
   "metadata": {},
   "outputs": [],
   "source": [
    "def generate_dataset(n):\n",
    "    apple_width = np.random.normal(6, 1, n) \n",
    "    apple_length = np.random.normal(6, 1, n)\n",
    "    banana_width = np.random.normal(4, 1, n)\n",
    "    banana_length = np.random.normal(8, 1, n)\n",
    "\n",
    "    width = np.concatenate((apple_width, banana_width)) \n",
    "    length = np.concatenate((apple_length, banana_length))\n",
    "    X = np.array([width, length]).T \n",
    "\n",
    "    Y_apples = np.zeros(n, dtype='int')   \n",
    "    Y_bananas = np.ones(n, dtype='int')  \n",
    "    Y = np.concatenate((Y_apples, Y_bananas))\n",
    "\n",
    "    return X, Y"
   ]
  },
  {
   "cell_type": "code",
   "execution_count": 43,
   "metadata": {},
   "outputs": [],
   "source": [
    "X_train, Y_train = generate_dataset(100)"
   ]
  },
  {
   "cell_type": "code",
   "execution_count": 44,
   "metadata": {},
   "outputs": [
    {
     "data": {
      "text/plain": [
       "array([[ 5.73224398,  6.24310301],\n",
       "       [ 6.28154855,  7.47756046],\n",
       "       [ 5.5628372 ,  5.04157365],\n",
       "       [ 6.19454805,  5.26128123],\n",
       "       [ 5.82380083,  6.77288494],\n",
       "       [ 4.50637116,  6.70584772],\n",
       "       [ 5.15405204,  5.68225208],\n",
       "       [ 5.77318207,  5.11845237],\n",
       "       [ 7.83228345,  5.82095959],\n",
       "       [ 6.18036375,  6.33535814],\n",
       "       [ 6.35545621,  7.08697972],\n",
       "       [ 6.20676055,  5.39423494],\n",
       "       [ 7.11997213,  5.60554112],\n",
       "       [ 5.78829104,  5.6954745 ],\n",
       "       [ 5.38614989,  6.61490452],\n",
       "       [ 6.68009348,  5.58904383],\n",
       "       [ 6.11172944,  6.35462278],\n",
       "       [ 5.63329595,  4.08164393],\n",
       "       [ 6.62469699,  4.93879468],\n",
       "       [ 6.14728147,  4.10443487],\n",
       "       [ 7.80083629,  5.67584269],\n",
       "       [ 6.09775795,  6.84000923],\n",
       "       [ 4.95185113,  5.4165443 ],\n",
       "       [ 7.27373238,  5.96072753],\n",
       "       [ 6.01931339,  5.5735639 ],\n",
       "       [ 5.33975053,  5.564895  ],\n",
       "       [ 6.43242921,  4.64320641],\n",
       "       [ 7.59408589,  5.62797926],\n",
       "       [ 5.02659859,  4.7590599 ],\n",
       "       [ 5.78030858,  6.64965939],\n",
       "       [ 5.54603109,  7.17386154],\n",
       "       [ 4.89882531,  5.47507134],\n",
       "       [ 4.97229293,  7.57179628],\n",
       "       [ 5.88728456,  5.80530843],\n",
       "       [ 6.05658585,  5.74511564],\n",
       "       [ 5.46529496,  4.97412601],\n",
       "       [ 6.5784745 ,  6.8620248 ],\n",
       "       [ 5.18002701,  5.37574306],\n",
       "       [ 6.67131531,  6.30453425],\n",
       "       [ 5.22494568,  8.35501592],\n",
       "       [ 6.3809338 ,  5.29137589],\n",
       "       [ 6.83274353,  5.68493678],\n",
       "       [ 6.58675528,  5.63331093],\n",
       "       [ 7.47155935,  6.06688954],\n",
       "       [ 5.97971117,  5.98129555],\n",
       "       [ 6.70833593,  5.48718238],\n",
       "       [ 6.54816293,  3.85097073],\n",
       "       [ 5.63949025,  4.90855669],\n",
       "       [ 5.28833516,  6.08368539],\n",
       "       [ 5.82542652,  5.07287754],\n",
       "       [ 5.2216046 ,  5.73473448],\n",
       "       [ 7.16406382,  5.77534781],\n",
       "       [ 6.61585864,  5.828588  ],\n",
       "       [ 6.84421387,  8.32366311],\n",
       "       [ 6.56831142,  7.45119657],\n",
       "       [ 6.18605573,  6.36741863],\n",
       "       [ 5.02075459,  7.64830318],\n",
       "       [ 7.24396919,  6.61164725],\n",
       "       [ 5.91463872,  6.0073603 ],\n",
       "       [ 5.50752384,  4.98219884],\n",
       "       [ 5.36533605,  5.18659644],\n",
       "       [ 5.20675539,  7.53076762],\n",
       "       [ 5.95489996,  5.09933866],\n",
       "       [ 5.31831192,  6.74722391],\n",
       "       [ 6.19108003,  5.86552148],\n",
       "       [ 4.78711338,  6.8566507 ],\n",
       "       [ 4.56888825,  6.56274739],\n",
       "       [ 6.99444441,  5.43812969],\n",
       "       [ 4.88213018,  5.62877571],\n",
       "       [ 7.09357666,  6.88496981],\n",
       "       [ 5.53687311,  4.07868221],\n",
       "       [ 3.45740168,  5.5703949 ],\n",
       "       [ 5.6309183 ,  6.06011831],\n",
       "       [ 9.02307542,  5.69773683],\n",
       "       [ 7.47051957,  4.89309261],\n",
       "       [ 7.52670503,  5.28699164],\n",
       "       [ 5.83458021,  4.93804236],\n",
       "       [ 5.81733937,  4.11303432],\n",
       "       [ 5.8003119 ,  7.05014193],\n",
       "       [ 7.48290705,  6.76826847],\n",
       "       [ 5.42867202,  5.69873766],\n",
       "       [ 4.6698974 ,  4.8661588 ],\n",
       "       [ 5.95251415,  5.72569436],\n",
       "       [ 5.90770548,  7.00250854],\n",
       "       [ 6.32939677,  5.37333603],\n",
       "       [ 5.7106903 ,  6.68699925],\n",
       "       [ 6.72644064,  3.36342187],\n",
       "       [ 4.13208835,  6.99761562],\n",
       "       [ 5.98855041,  5.93163534],\n",
       "       [ 7.11494662,  3.2646316 ],\n",
       "       [ 9.58913337,  5.39876335],\n",
       "       [ 5.98037833,  6.83698523],\n",
       "       [ 6.30738619,  4.91229972],\n",
       "       [ 5.49849165,  4.68655698],\n",
       "       [ 5.62359057,  5.1929545 ],\n",
       "       [ 6.91622373,  5.26181746],\n",
       "       [ 6.4761165 ,  7.23071182],\n",
       "       [ 4.36731577,  5.76732599],\n",
       "       [ 5.37826128,  5.389154  ],\n",
       "       [ 6.00418175,  7.00807403],\n",
       "       [ 4.19663617,  8.16205887],\n",
       "       [ 1.32433287,  7.4799321 ],\n",
       "       [ 3.33935178,  8.39069406],\n",
       "       [ 3.62578392,  5.74377123],\n",
       "       [ 3.05896206,  7.45891055],\n",
       "       [ 4.65498164,  7.1517284 ],\n",
       "       [ 4.76900168, 10.73873256],\n",
       "       [ 5.39235216,  9.08690033],\n",
       "       [ 4.20192165,  8.29051993],\n",
       "       [ 3.23866994,  5.93380127],\n",
       "       [ 5.54666447,  7.03892514],\n",
       "       [ 5.03085965,  8.46201937],\n",
       "       [ 4.43516781,  7.345942  ],\n",
       "       [ 3.22984903,  7.59186951],\n",
       "       [ 4.27252863,  7.54101329],\n",
       "       [ 3.64982332,  7.45242348],\n",
       "       [ 2.68903657,  8.24683266],\n",
       "       [ 6.18524517,  9.47321222],\n",
       "       [ 3.69930477,  8.84779266],\n",
       "       [ 3.06148663,  7.23069748],\n",
       "       [ 5.2793891 ,  7.84066271],\n",
       "       [ 2.64015068,  8.55140002],\n",
       "       [ 4.6397612 ,  9.02582138],\n",
       "       [ 4.30047702,  9.53226032],\n",
       "       [ 3.3034917 ,  9.03462942],\n",
       "       [ 4.7796103 ,  7.81178926],\n",
       "       [ 5.69703911,  7.38754904],\n",
       "       [ 3.25439153,  6.74096485],\n",
       "       [ 4.02163335,  6.33505802],\n",
       "       [ 4.02359547,  9.34534726],\n",
       "       [ 2.47900965,  6.61066522],\n",
       "       [ 4.44552879,  8.64503434],\n",
       "       [ 2.85976544,  8.40331913],\n",
       "       [ 3.70893451,  8.2088702 ],\n",
       "       [ 4.40314751,  7.88393718],\n",
       "       [ 3.18829433,  5.9624604 ],\n",
       "       [ 2.97910439,  7.03013134],\n",
       "       [ 5.34156352,  8.61585955],\n",
       "       [ 4.77331267,  8.65970585],\n",
       "       [ 2.18559515,  6.84646733],\n",
       "       [ 3.69380857,  6.19499607],\n",
       "       [ 4.64196754,  8.35728996],\n",
       "       [ 2.59060539,  7.72929218],\n",
       "       [ 4.63273575,  7.42349679],\n",
       "       [ 4.79451914,  8.58546704],\n",
       "       [ 4.06095741,  5.37552399],\n",
       "       [ 5.71201571,  9.70677569],\n",
       "       [ 4.20134206,  7.56895247],\n",
       "       [ 3.8253093 ,  9.84375636],\n",
       "       [ 3.15717676, 10.31013484],\n",
       "       [ 3.00313338, 10.18225705],\n",
       "       [ 4.24857597,  6.57210307],\n",
       "       [ 4.38736966,  7.37910752],\n",
       "       [ 2.97689309,  8.13298418],\n",
       "       [ 3.93683295,  6.92724101],\n",
       "       [ 5.54709585,  9.15108296],\n",
       "       [ 5.42626491,  8.58324753],\n",
       "       [ 4.29382642,  7.55831488],\n",
       "       [ 4.83646826,  7.62711236],\n",
       "       [ 3.98042449,  7.65402937],\n",
       "       [ 3.71889509,  8.4361573 ],\n",
       "       [ 3.78171408,  9.13399402],\n",
       "       [ 4.41305359,  6.57821905],\n",
       "       [ 4.04961561,  8.39648837],\n",
       "       [ 3.89832907,  7.49226523],\n",
       "       [ 4.79502303,  7.62386995],\n",
       "       [ 4.39037719,  6.91063353],\n",
       "       [ 4.14388011,  8.9213344 ],\n",
       "       [ 5.05990582,  8.43449044],\n",
       "       [ 3.77207603,  9.31057252],\n",
       "       [ 3.42212062,  9.57118991],\n",
       "       [ 4.22529059,  7.05023175],\n",
       "       [ 1.6167063 ,  7.32084725],\n",
       "       [ 4.5903539 ,  8.40661151],\n",
       "       [ 5.64321929,  8.00759808],\n",
       "       [ 3.9952902 ,  8.45948404],\n",
       "       [ 3.83876192,  7.69877763],\n",
       "       [ 4.49512477,  7.13932652],\n",
       "       [ 4.31248408,  7.4461004 ],\n",
       "       [ 3.65518658,  9.53969639],\n",
       "       [ 3.33035634,  8.16052673],\n",
       "       [ 3.92799512,  6.62312715],\n",
       "       [ 3.33497247,  8.13646383],\n",
       "       [ 3.3629643 ,  8.55745756],\n",
       "       [ 3.61091865,  9.06108271],\n",
       "       [ 4.7231715 , 10.17041331],\n",
       "       [ 2.8374601 ,  8.23109293],\n",
       "       [ 4.96612538,  7.36441116],\n",
       "       [ 3.7006192 ,  8.44298185],\n",
       "       [ 3.4798392 ,  8.67342306],\n",
       "       [ 5.98597298,  8.05479321],\n",
       "       [ 5.10005321,  8.83614754],\n",
       "       [ 4.26490067,  8.33010917],\n",
       "       [ 3.62629221,  8.03879552],\n",
       "       [ 3.54365716,  7.5131464 ],\n",
       "       [ 4.45019255,  9.13977936],\n",
       "       [ 4.50603089,  9.05895203],\n",
       "       [ 4.90812236,  7.38469525],\n",
       "       [ 6.07716564,  6.9381476 ],\n",
       "       [ 2.71979934,  8.1668253 ]])"
      ]
     },
     "execution_count": 44,
     "metadata": {},
     "output_type": "execute_result"
    }
   ],
   "source": [
    "X_train"
   ]
  },
  {
   "cell_type": "code",
   "execution_count": 45,
   "metadata": {},
   "outputs": [
    {
     "data": {
      "image/png": "[encoded data removed]",
      "text/plain": [
       "<Figure size 640x480 with 1 Axes>"
      ]
     },
     "metadata": {},
     "output_type": "display_data"
    }
   ],
   "source": [
    "cmap=['red', 'orange']\n",
    "plt.scatter(X_train[:, 0], X_train[:, 1], c=Y_train, cmap= ListedColormap(cmap), marker=\".\") \n",
    "plt.title(\"Apple_Banana\")\n",
    "plt.xlabel(\"Width\")\n",
    "plt.ylabel(\"Length\")\n",
    "plt.show()"
   ]
  },
  {
   "cell_type": "code",
   "execution_count": 46,
   "metadata": {},
   "outputs": [],
   "source": [
    "knn = KNN(k=5)\n",
    "knn.fit(X_train, Y_train)"
   ]
  },
  {
   "cell_type": "code",
   "execution_count": 47,
   "metadata": {},
   "outputs": [],
   "source": [
    "new_fruit = np.array([4, 8.5])  # width: 4 _ length: 8.5\n",
    "new_fruit2 = np.array([6, 6])\n",
    "new_fruit3 = np.array([4, 7])\n",
    "new_fruits = [new_fruit, new_fruit2, new_fruit3]\n",
    "\n",
    "outputs = knn.predict(new_fruits)"
   ]
  },
  {
   "cell_type": "code",
   "execution_count": 48,
   "metadata": {},
   "outputs": [
    {
     "name": "stdout",
     "output_type": "stream",
     "text": [
      "Banana\n",
      "Apple\n",
      "Banana\n"
     ]
    }
   ],
   "source": [
    "for output in outputs:\n",
    "    if output == 0:\n",
    "        print(\"Apple\")\n",
    "    else:\n",
    "        print(\"Banana\")   "
   ]
  },
  {
   "cell_type": "markdown",
   "metadata": {},
   "source": [
    "ارزیابی جواب درست"
   ]
  },
  {
   "cell_type": "code",
   "execution_count": 49,
   "metadata": {},
   "outputs": [],
   "source": [
    "X_test, Y_test = generate_dataset(50)"
   ]
  },
  {
   "cell_type": "code",
   "execution_count": 50,
   "metadata": {},
   "outputs": [
    {
     "data": {
      "text/plain": [
       "0.9"
      ]
     },
     "execution_count": 50,
     "metadata": {},
     "output_type": "execute_result"
    }
   ],
   "source": [
    "knn.evaluate(X_test, Y_test)"
   ]
  },
  {
   "cell_type": "code",
   "execution_count": null,
   "metadata": {},
   "outputs": [],
   "source": [
    "Y_pred = knn.predict(X_test)\n",
    "Y_pred  # پیش بینی ما"
   ]
  },
  {
   "cell_type": "code",
   "execution_count": 52,
   "metadata": {},
   "outputs": [
    {
     "data": {
      "text/plain": [
       "array([[44.,  6.],\n",
       "       [ 4., 46.]])"
      ]
     },
     "execution_count": 52,
     "metadata": {},
     "output_type": "execute_result"
    }
   ],
   "source": [
    "confusion_matrix = np.zeros((2, 2))\n",
    "\n",
    "for i in range(100):\n",
    "    if Y_test[i] == 0 and Y_pred[i] == 0:\n",
    "        confusion_matrix[0][0] += 1\n",
    "    elif Y_test[i] == 0 and Y_pred[i] == 1:\n",
    "        confusion_matrix[0][1] += 1    \n",
    "    elif Y_test[i] == 1 and Y_pred[i] == 0:\n",
    "        confusion_matrix[1][0] += 1    \n",
    "    elif Y_test[i] == 1 and Y_pred[i] == 1:\n",
    "        confusion_matrix[1][1] += 1 \n",
    "\n",
    "confusion_matrix               \n",
    "\n"
   ]
  },
  {
   "cell_type": "code",
   "execution_count": 53,
   "metadata": {},
   "outputs": [
    {
     "data": {
      "image/png": "[encoded data removed]",
      "text/plain": [
       "<Figure size 640x480 with 2 Axes>"
      ]
     },
     "metadata": {},
     "output_type": "display_data"
    }
   ],
   "source": [
    "plt.imshow(confusion_matrix)\n",
    "plt.colorbar()\n",
    "plt.show()"
   ]
  },
  {
   "cell_type": "markdown",
   "metadata": {},
   "source": [
    "استفاده از کتابخانه sKlearn"
   ]
  },
  {
   "cell_type": "code",
   "execution_count": 54,
   "metadata": {},
   "outputs": [
    {
     "data": {
      "text/plain": [
       "array([1, 0, 1])"
      ]
     },
     "execution_count": 54,
     "metadata": {},
     "output_type": "execute_result"
    }
   ],
   "source": [
    "knn = KNeighborsClassifier(n_neighbors=5)\n",
    "knn.fit(X_train, Y_train)\n",
    "\n",
    "knn.predict(new_fruits)"
   ]
  },
  {
   "cell_type": "code",
   "execution_count": 55,
   "metadata": {},
   "outputs": [
    {
     "data": {
      "text/plain": [
       "0.9"
      ]
     },
     "execution_count": 55,
     "metadata": {},
     "output_type": "execute_result"
    }
   ],
   "source": [
    "knn.score(X_test, Y_test)   #ارزیابی جواب درست با استفاده از کتابخانه سایکیتلرن"
   ]
  }
 ],
 "metadata": {
  "kernelspec": {
   "display_name": "Python 3",
   "language": "python",
   "name": "python3"
  },
  "language_info": {
   "codemirror_mode": {
    "name": "ipython",
    "version": 3
   },
   "file_extension": ".py",
   "mimetype": "text/x-python",
   "name": "python",
   "nbconvert_exporter": "python",
   "pygments_lexer": "ipython3",
   "version": "3.10.8"
  },
  "orig_nbformat": 4
 },
 "nbformat": 4,
 "nbformat_minor": 2
}
